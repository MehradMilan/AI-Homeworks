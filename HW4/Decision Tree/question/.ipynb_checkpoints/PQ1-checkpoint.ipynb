{
 "cells": [
  {
   "cell_type": "markdown",
   "id": "6973c7b3",
   "metadata": {},
   "source": [
    "# AI Fall 2022 - A4 - Decision Tree\n",
    "## Your info\n",
    "\n",
    "**Student Name:** Mehrad Milanloo\n",
    "\n",
    "**Student Id:** 99105775"
   ]
  },
  {
   "cell_type": "markdown",
   "id": "583aa5d3",
   "metadata": {},
   "source": [
    "## Practical Question - Decision Tree (25 + 5 points)\n",
    "In this question you will first write a program to find an appropriate order of features for training a decision tree based on information gain. In the second part, you will use existing implementations to train and tune a classifier using GridSearch on the given dataset. And try to finish this in <15 mins."
   ]
  },
  {
   "cell_type": "markdown",
   "id": "2ac5a6c8",
   "metadata": {},
   "source": [
    "### Import\n",
    "Import the libraries you need in the next cell."
   ]
  },
  {
   "cell_type": "code",
   "execution_count": 105,
   "id": "3b6cef51",
   "metadata": {},
   "outputs": [],
   "source": [
    "import pandas as pd\n",
    "import numpy as np\n",
    "import itertools\n",
    "# ..."
   ]
  },
  {
   "cell_type": "markdown",
   "id": "63dcc062",
   "metadata": {},
   "source": [
    "### Part A (20 points)\n",
    "Consider the following dataframe and answer the following questions:"
   ]
  },
  {
   "cell_type": "code",
   "execution_count": 106,
   "id": "bfb62d6e",
   "metadata": {},
   "outputs": [
    {
     "data": {
      "text/html": [
       "<div>\n",
       "<style scoped>\n",
       "    .dataframe tbody tr th:only-of-type {\n",
       "        vertical-align: middle;\n",
       "    }\n",
       "\n",
       "    .dataframe tbody tr th {\n",
       "        vertical-align: top;\n",
       "    }\n",
       "\n",
       "    .dataframe thead th {\n",
       "        text-align: right;\n",
       "    }\n",
       "</style>\n",
       "<table border=\"1\" class=\"dataframe\">\n",
       "  <thead>\n",
       "    <tr style=\"text-align: right;\">\n",
       "      <th></th>\n",
       "      <th>Race</th>\n",
       "      <th>Sex</th>\n",
       "      <th>Age</th>\n",
       "      <th>BMI</th>\n",
       "      <th>Smoker</th>\n",
       "      <th>Label</th>\n",
       "    </tr>\n",
       "  </thead>\n",
       "  <tbody>\n",
       "    <tr>\n",
       "      <th>0</th>\n",
       "      <td>1.0</td>\n",
       "      <td>1.0</td>\n",
       "      <td>43.0</td>\n",
       "      <td>25.803</td>\n",
       "      <td>1.0</td>\n",
       "      <td>False</td>\n",
       "    </tr>\n",
       "    <tr>\n",
       "      <th>1</th>\n",
       "      <td>2.0</td>\n",
       "      <td>2.0</td>\n",
       "      <td>72.0</td>\n",
       "      <td>33.394</td>\n",
       "      <td>0.0</td>\n",
       "      <td>True</td>\n",
       "    </tr>\n",
       "    <tr>\n",
       "      <th>2</th>\n",
       "      <td>1.0</td>\n",
       "      <td>2.0</td>\n",
       "      <td>4.0</td>\n",
       "      <td>20.278</td>\n",
       "      <td>1.0</td>\n",
       "      <td>False</td>\n",
       "    </tr>\n",
       "    <tr>\n",
       "      <th>3</th>\n",
       "      <td>1.0</td>\n",
       "      <td>2.0</td>\n",
       "      <td>59.0</td>\n",
       "      <td>32.918</td>\n",
       "      <td>0.0</td>\n",
       "      <td>False</td>\n",
       "    </tr>\n",
       "    <tr>\n",
       "      <th>4</th>\n",
       "      <td>1.0</td>\n",
       "      <td>2.0</td>\n",
       "      <td>34.0</td>\n",
       "      <td>30.743</td>\n",
       "      <td>1.0</td>\n",
       "      <td>False</td>\n",
       "    </tr>\n",
       "  </tbody>\n",
       "</table>\n",
       "</div>"
      ],
      "text/plain": [
       "   Race  Sex   Age     BMI  Smoker  Label\n",
       "0   1.0  1.0  43.0  25.803     1.0  False\n",
       "1   2.0  2.0  72.0  33.394     0.0   True\n",
       "2   1.0  2.0   4.0  20.278     1.0  False\n",
       "3   1.0  2.0  59.0  32.918     0.0  False\n",
       "4   1.0  2.0  34.0  30.743     1.0  False"
      ]
     },
     "execution_count": 106,
     "metadata": {},
     "output_type": "execute_result"
    }
   ],
   "source": [
    "df = pd.DataFrame({\n",
    "    'Race': [1.0, 2.0, 1.0, 1.0, 1.0, 1.0, 1.0, 1.0, 1.0, 1.0, 1.0, 1.0, 2.0, 1.0, 1.0, 1.0, 1.0, 1.0, 1.0, 1.0],\n",
    "    'Sex': [1.0, 2.0, 2.0, 2.0, 2.0, 2.0, 2.0, 2.0, 1.0, 1.0, 1.0, 2.0, 1.0, 2.0, 1.0, 1.0, 2.0, 1.0, 1.0, 2.0],\n",
    "    'Age': [43.0, 72.0, 4.0, 59.0, 34.0, 55.0, 41.0, 39.0, 6.0, 77.0, 67.0, 35.0, 45.0, 39.0, 32.0, 57.0, 99.0, 68.0, 47.0, 28.0],\n",
    "    'BMI': [25.803, 33.394, 20.278, 32.918, 30.743, 37.734, 23.725, 20.722, 19.452, 22.044, 17.481, 18.918, 28.578, 19.214, 23.562, 23.446, 21.872, 20.691, 25.471, 25.82],\n",
    "    'Smoker': [1.0, 0.0, 1.0, 0.0, 1.0, 1.0, 0.0, 1.0, 0.0, 1.0, 0.0, 1.0, 1.0, 0.0, 0.0, 0.0, 0.0, 0.0, 0.0, 1.0],\n",
    "    'Label': [False, True, False, False, False, True, False, False, False, False, True, False, False, False, False, False, False, False, True, False],\n",
    "})\n",
    "\n",
    "df.head()"
   ]
  },
  {
   "cell_type": "markdown",
   "id": "92cdcfa1",
   "metadata": {},
   "source": [
    "#### QA.1 (10 points)\n",
    "Complete the following function that calculates and returns the list of features based on their information gain."
   ]
  },
  {
   "cell_type": "code",
   "execution_count": 107,
   "id": "376c215b",
   "metadata": {},
   "outputs": [
    {
     "name": "stdout",
     "output_type": "stream",
     "text": [
      "['Age', 'BMI', 'Race', 'Smoker', 'Sex']\n"
     ]
    }
   ],
   "source": [
    "def feature_order(X_data, y_data):\n",
    "    '''\n",
    "    Calculate the best feature order\n",
    "    for training a decision tree based on\n",
    "    information gain.\n",
    "    Input:\n",
    "        X_data (pd.DataFrame) contains data features\n",
    "        y_data (pd.Series) contains the labels\n",
    "    Output:\n",
    "        order (list[str]): The `X_data` columns in the correct order\n",
    "    '''\n",
    "    order = list(pd.DataFrame(X_data).columns)\n",
    "    IG = []\n",
    "    for i in range(len(order)):\n",
    "      IG.append(information_gain(y_data, X_data[order[i]] < max_information_gain_split(X_data[order[i]], y_data)))\n",
    "    order = [x for _,x in sorted(zip(IG,order), reverse=True)]\n",
    "\n",
    "    # Your code here\n",
    "    return order\n",
    "\n",
    "def entropy(y_data):\n",
    "    '''\n",
    "    Calculate the entropy for a given set of labels.\n",
    "    Input:\n",
    "        y_data (pd.Series) contains the labels\n",
    "    Output:\n",
    "        H (float): The entropy\n",
    "    '''\n",
    "    entropy = 0\n",
    "    if isinstance(y_data, pd.Series):\n",
    "        a = y_data.value_counts()/y_data.shape[0]\n",
    "    entropy = np.sum(-a*np.log2(a+1e-9))\n",
    "    return(entropy)\n",
    "\n",
    "def conditional_entropy(X_data, y_data):\n",
    "    '''\n",
    "    Calculate the conditional entropy for a given feature.\n",
    "    Input:\n",
    "        X_data (pd.Series) contains the feature data\n",
    "        y_data (pd.Series) contains the labels\n",
    "    Output:\n",
    "        H (float): The conditional entropy\n",
    "    '''\n",
    "    H = 0\n",
    "    for i in range(len(X_data)):\n",
    "        H += X_data[i] * entropy(y_data)\n",
    "    return H\n",
    "\n",
    "def information_gain(y, mask, func=entropy):\n",
    "  '''\n",
    "  It returns the Information Gain of a variable given a loss function.\n",
    "  y: target variable.\n",
    "  mask: split choice.\n",
    "  func: function to be used to calculate Information Gain in case os classification.\n",
    "  '''\n",
    "  a = sum(mask)\n",
    "  b = mask.shape[0] - a\n",
    "  if(a == 0 or b ==0): \n",
    "    ig = 0\n",
    "  else:\n",
    "      ig = func(y)-a/(a+b)*func(y[mask])-b/(a+b)*func(y[-mask])\n",
    "  return ig\n",
    "\n",
    "def max_information_gain_split(x, y, func=entropy):\n",
    "  '''\n",
    "  Given a predictor & target variable, returns the best split, the error and the type of variable based on a selected cost function.\n",
    "  x: predictor variable as Pandas Series.\n",
    "  y: target variable as Pandas Series.\n",
    "  func: function to be used to calculate the best split.\n",
    "  '''\n",
    "  max_ig = 0 \n",
    "  options = x.sort_values().unique()[1:]\n",
    "  best_split = None\n",
    "  for val in options:\n",
    "    mask = x < val\n",
    "    val_ig = information_gain(y, mask, func)\n",
    "    if val_ig > max_ig:\n",
    "      max_ig = val_ig\n",
    "      best_split = val\n",
    "  return best_split\n",
    "\n",
    "print(feature_order(df.iloc[:, :-1], df.Label))"
   ]
  },
  {
   "cell_type": "markdown",
   "id": "2e61bfeb",
   "metadata": {},
   "source": [
    "#### QA.2 (5 points)\n",
    "What are some of the effective approaches to prevent the tree from overfitting? (three approaches)"
   ]
  },
  {
   "cell_type": "markdown",
   "id": "960950b9",
   "metadata": {},
   "source": [
    "<font color=#183364>\n",
    "    <i>\n",
    "        Answer.\n",
    "        <ol>\n",
    "            Pre-Prune:\n",
    "            <li>Max Depth</li>\n",
    "            <li>Min Split</li>\n",
    "            Post-Prune:\n",
    "            <li>Pruning</li>\n",
    "        </ol>\n",
    "    </i>\n",
    "</font>"
   ]
  },
  {
   "cell_type": "markdown",
   "id": "02158721",
   "metadata": {},
   "source": [
    "#### QA.3 (5 points)\n",
    "About the `Age` feature which is an integer-valued input attribute, how can a tree utilize it for classification? Write a small piece of code to find the answer for this specific column."
   ]
  },
  {
   "cell_type": "markdown",
   "id": "1244b4fe",
   "metadata": {},
   "source": [
    "<font color=#183364>\n",
    "    <i>\n",
    "        Answer. \n",
    "        The idea is to find a pivot number from the specified column. Then we'll split the tree based on which row has a number in the column more or less than the pivot number. The main key is how we're going to find the pivot. Easily we run a for loop on every unique value in the column, temporarely split the tree based on that value as the pivot number. Then we calculate IG for each situation and finally choose the number which leads to the maximum IG.\n",
    "    </i>\n",
    "</font>"
   ]
  },
  {
   "cell_type": "code",
   "execution_count": 108,
   "id": "11d4beee",
   "metadata": {},
   "outputs": [],
   "source": [
    "def max_information_gain_split(x, y, func=entropy):\n",
    "  '''\n",
    "  Given a predictor & target variable, returns the best split, the error and the type of variable based on a selected cost function.\n",
    "  x: predictor variable as Pandas Series.\n",
    "  y: target variable as Pandas Series.\n",
    "  func: function to be used to calculate the best split.\n",
    "  '''\n",
    "  max_ig = 0 \n",
    "  options = x.sort_values().unique()[1:]\n",
    "  best_split = None\n",
    "  for val in options:\n",
    "    mask = x < val\n",
    "    val_ig = information_gain(y, mask, func)\n",
    "    if val_ig > max_ig:\n",
    "      max_ig = val_ig\n",
    "      best_split = val\n",
    "  return best_split"
   ]
  },
  {
   "cell_type": "markdown",
   "id": "3ad880d0",
   "metadata": {},
   "source": [
    "### Part B (10 points)\n",
    "In this part you will learn more about [sklearn.tree.DecisionTreeClassifier](https://scikit-learn.org/stable/modules/generated/sklearn.tree.DecisionTreeClassifier.html) and use it to train a classifier and tune its parameters."
   ]
  },
  {
   "cell_type": "markdown",
   "id": "58925924",
   "metadata": {},
   "source": [
    "#### QB.1 (5 points)\n",
    "For measuring the _accuracy_ of your models, choose a subset of the given dataset as your validation set (Check out [sklearn.model_selection.train_test_split](https://scikit-learn.org/stable/modules/generated/sklearn.model_selection.train_test_split.html))."
   ]
  },
  {
   "cell_type": "code",
   "execution_count": 109,
   "id": "8ddd8cef",
   "metadata": {},
   "outputs": [],
   "source": [
    "# Your code here\n",
    "from sklearn.model_selection import train_test_split\n",
    "from sklearn.model_selection import ParameterGrid\n",
    "import sklearn.tree as tree\n",
    "from sklearn.metrics import accuracy_score\n",
    "from matplotlib import pyplot as plt\n",
    "from sklearn import datasets\n",
    "from sklearn.tree import DecisionTreeClassifier \n",
    "from sklearn import tree\n",
    "\n",
    "\n",
    "## Split the dataset\n",
    "X_train, X_test, y_train, y_test = train_test_split(df.iloc[:, :-1], df.Label, test_size=0.33)"
   ]
  },
  {
   "cell_type": "code",
   "execution_count": 110,
   "id": "b5c1b30f",
   "metadata": {},
   "outputs": [
    {
     "name": "stdout",
     "output_type": "stream",
     "text": [
      "Accuracy:  0.8571428571428571\n"
     ]
    }
   ],
   "source": [
    "# Your code here\n",
    "## Set your own hyperparameters below, such as:\n",
    "dt_hyperparams = {\n",
    "    'min_samples_split': 2,\n",
    "    'criterion': 'entropy',\n",
    "    'max_depth': 3,\n",
    "    'min_samples_leaf': 1,\n",
    "    'max_leaf_nodes': 4,\n",
    "    'random_state': 13\n",
    "}\n",
    "clf = tree.DecisionTreeClassifier(**dt_hyperparams)\n",
    "clf.fit(X_train, y_train)\n",
    "y_hat = clf.predict(X_test)\n",
    "print('Accuracy: ', accuracy_score(y_test, y_hat))\n",
    "## Train the model and check its performance\n"
   ]
  },
  {
   "cell_type": "markdown",
   "id": "bbe85fdf",
   "metadata": {},
   "source": [
    "#### QB.2 (5 points)\n",
    "Take a look at customizable and potentially useful input params of the model, define a range for each of their values, and use GridSearch (Feel free to implement/[import](https://scikit-learn.org/stable/modules/generated/sklearn.model_selection.GridSearchCV.html) it) and find a set of hyperparametetrs that work best among your candidates."
   ]
  },
  {
   "cell_type": "code",
   "execution_count": 111,
   "id": "89f4c704",
   "metadata": {},
   "outputs": [
    {
     "name": "stdout",
     "output_type": "stream",
     "text": [
      "Best accuracy:  0.8571428571428571\n",
      "Best parameters:  {'criterion': 'gini', 'max_depth': 2, 'max_leaf_nodes': 2, 'min_samples_leaf': 1, 'min_samples_split': 2, 'random_state': 1}\n"
     ]
    }
   ],
   "source": [
    "# Your code here\n",
    "param_grid = {'min_samples_split': [2, 3, 4], 'criterion': ['gini', 'entropy'], 'max_depth': [2, 3, 4], 'min_samples_leaf': [1, 2, 3], 'max_leaf_nodes': [2, 3, 4], 'random_state': [1, 2, 3, 4, 5]}\n",
    "param_grid = list(ParameterGrid(param_grid))\n",
    "best_acc = 0\n",
    "best_param = None\n",
    "for param in param_grid:\n",
    "    clf = tree.DecisionTreeClassifier(**param)\n",
    "    clf.fit(X_train, y_train)\n",
    "    y_hat = clf.predict(X_test)\n",
    "    acc = accuracy_score(y_test, y_hat)\n",
    "    if acc > best_acc:\n",
    "        best_acc = acc\n",
    "        best_param = param\n",
    "print('Best accuracy: ', best_acc)\n",
    "print('Best parameters: ', best_param)"
   ]
  },
  {
   "cell_type": "markdown",
   "id": "9d3bc161",
   "metadata": {},
   "source": [
    "#### QB.3 (5 extra points)\n",
    "Visualize the tree splits and interpret it (Hint: Search about `IPython.display.Image`, `pydotplus`, `StringIO`, and `export_graphviz`)."
   ]
  },
  {
   "cell_type": "code",
   "execution_count": 112,
   "id": "e48e900c",
   "metadata": {},
   "outputs": [
    {
     "name": "stdout",
     "output_type": "stream",
     "text": [
      "Requirement already satisfied: graphviz in /home/mehrad/.local/lib/python3.8/site-packages (0.20.1)\n",
      "Requirement already satisfied: pydotplus in /home/mehrad/.local/lib/python3.8/site-packages (2.0.2)\n",
      "Requirement already satisfied: pyparsing>=2.0.1 in /usr/lib/python3/dist-packages (from pydotplus) (2.4.6)\n"
     ]
    }
   ],
   "source": [
    "!pip install graphviz\n",
    "!pip install pydotplus\n"
   ]
  },
  {
   "cell_type": "code",
   "execution_count": 113,
   "id": "12ca334f",
   "metadata": {},
   "outputs": [
    {
     "data": {
      "image/png": "[encoded data removed]",
      "text/plain": [
       "<IPython.core.display.Image object>"
      ]
     },
     "execution_count": 113,
     "metadata": {},
     "output_type": "execute_result"
    }
   ],
   "source": [
    "import graphviz\n",
    "from graphviz import Source\n",
    "from IPython.display import SVG\n",
    "from IPython.display import display\n",
    "from sklearn import tree\n",
    "from sklearn.tree import export_graphviz\n",
    "import pydotplus\n",
    "from IPython.display import Image\n",
    "tree.export_graphviz(clf, out_file='tree.dot', feature_names=df.columns[:-1], label='all', class_names=['0', '1'], filled=True, rounded=True, special_characters=True)\n",
    "graph = pydotplus.graph_from_dot_file('tree.dot')\n",
    "Image(graph.create_png())\n"
   ]
  }
 ],
 "metadata": {
  "kernelspec": {
   "display_name": "Python 3 (ipykernel)",
   "language": "python",
   "name": "python3"
  },
  "language_info": {
   "codemirror_mode": {
    "name": "ipython",
    "version": 3
   },
   "file_extension": ".py",
   "mimetype": "text/x-python",
   "name": "python",
   "nbconvert_exporter": "python",
   "pygments_lexer": "ipython3",
   "version": "3.8.10"
  },
  "vscode": {
   "interpreter": {
    "hash": "31f2aee4e71d21fbe5cf8b01ff0e069b9275f58929596ceb00d14d90e3e16cd6"
   }
  }
 },
 "nbformat": 4,
 "nbformat_minor": 5
}
